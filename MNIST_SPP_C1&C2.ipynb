{
  "nbformat": 4,
  "nbformat_minor": 0,
  "metadata": {
    "colab": {
      "name": "MNIST SPP_C1&C2",
      "provenance": []
    },
    "kernelspec": {
      "name": "python3",
      "display_name": "Python 3"
    },
    "language_info": {
      "name": "python"
    }
  },
  "cells": [
    {
      "cell_type": "code",
      "metadata": {
        "id": "BNh8AiFsPFjE"
      },
      "source": [
        "import tensorflow as tf"
      ],
      "execution_count": 1,
      "outputs": []
    },
    {
      "cell_type": "code",
      "metadata": {
        "colab": {
          "base_uri": "https://localhost:8080/"
        },
        "id": "UoCKcabsQKlA",
        "outputId": "b1cf61f4-8310-4d90-de22-fb227a53a017"
      },
      "source": [
        "!pip install -U tensorflow-addons"
      ],
      "execution_count": 4,
      "outputs": [
        {
          "output_type": "stream",
          "text": [
            "Collecting tensorflow-addons\n",
            "  Downloading tensorflow_addons-0.13.0-cp37-cp37m-manylinux2010_x86_64.whl (679 kB)\n",
            "\u001b[?25l\r\u001b[K     |▌                               | 10 kB 22.4 MB/s eta 0:00:01\r\u001b[K     |█                               | 20 kB 25.0 MB/s eta 0:00:01\r\u001b[K     |█▌                              | 30 kB 27.1 MB/s eta 0:00:01\r\u001b[K     |██                              | 40 kB 23.5 MB/s eta 0:00:01\r\u001b[K     |██▍                             | 51 kB 18.0 MB/s eta 0:00:01\r\u001b[K     |███                             | 61 kB 14.0 MB/s eta 0:00:01\r\u001b[K     |███▍                            | 71 kB 14.8 MB/s eta 0:00:01\r\u001b[K     |███▉                            | 81 kB 16.0 MB/s eta 0:00:01\r\u001b[K     |████▍                           | 92 kB 13.7 MB/s eta 0:00:01\r\u001b[K     |████▉                           | 102 kB 14.4 MB/s eta 0:00:01\r\u001b[K     |█████▎                          | 112 kB 14.4 MB/s eta 0:00:01\r\u001b[K     |█████▉                          | 122 kB 14.4 MB/s eta 0:00:01\r\u001b[K     |██████▎                         | 133 kB 14.4 MB/s eta 0:00:01\r\u001b[K     |██████▊                         | 143 kB 14.4 MB/s eta 0:00:01\r\u001b[K     |███████▎                        | 153 kB 14.4 MB/s eta 0:00:01\r\u001b[K     |███████▊                        | 163 kB 14.4 MB/s eta 0:00:01\r\u001b[K     |████████▏                       | 174 kB 14.4 MB/s eta 0:00:01\r\u001b[K     |████████▊                       | 184 kB 14.4 MB/s eta 0:00:01\r\u001b[K     |█████████▏                      | 194 kB 14.4 MB/s eta 0:00:01\r\u001b[K     |█████████▋                      | 204 kB 14.4 MB/s eta 0:00:01\r\u001b[K     |██████████▏                     | 215 kB 14.4 MB/s eta 0:00:01\r\u001b[K     |██████████▋                     | 225 kB 14.4 MB/s eta 0:00:01\r\u001b[K     |███████████                     | 235 kB 14.4 MB/s eta 0:00:01\r\u001b[K     |███████████▋                    | 245 kB 14.4 MB/s eta 0:00:01\r\u001b[K     |████████████                    | 256 kB 14.4 MB/s eta 0:00:01\r\u001b[K     |████████████▌                   | 266 kB 14.4 MB/s eta 0:00:01\r\u001b[K     |█████████████                   | 276 kB 14.4 MB/s eta 0:00:01\r\u001b[K     |█████████████▌                  | 286 kB 14.4 MB/s eta 0:00:01\r\u001b[K     |██████████████                  | 296 kB 14.4 MB/s eta 0:00:01\r\u001b[K     |██████████████▌                 | 307 kB 14.4 MB/s eta 0:00:01\r\u001b[K     |███████████████                 | 317 kB 14.4 MB/s eta 0:00:01\r\u001b[K     |███████████████▍                | 327 kB 14.4 MB/s eta 0:00:01\r\u001b[K     |████████████████                | 337 kB 14.4 MB/s eta 0:00:01\r\u001b[K     |████████████████▍               | 348 kB 14.4 MB/s eta 0:00:01\r\u001b[K     |████████████████▉               | 358 kB 14.4 MB/s eta 0:00:01\r\u001b[K     |█████████████████▍              | 368 kB 14.4 MB/s eta 0:00:01\r\u001b[K     |█████████████████▉              | 378 kB 14.4 MB/s eta 0:00:01\r\u001b[K     |██████████████████▎             | 389 kB 14.4 MB/s eta 0:00:01\r\u001b[K     |██████████████████▉             | 399 kB 14.4 MB/s eta 0:00:01\r\u001b[K     |███████████████████▎            | 409 kB 14.4 MB/s eta 0:00:01\r\u001b[K     |███████████████████▊            | 419 kB 14.4 MB/s eta 0:00:01\r\u001b[K     |████████████████████▎           | 430 kB 14.4 MB/s eta 0:00:01\r\u001b[K     |████████████████████▊           | 440 kB 14.4 MB/s eta 0:00:01\r\u001b[K     |█████████████████████▏          | 450 kB 14.4 MB/s eta 0:00:01\r\u001b[K     |█████████████████████▊          | 460 kB 14.4 MB/s eta 0:00:01\r\u001b[K     |██████████████████████▏         | 471 kB 14.4 MB/s eta 0:00:01\r\u001b[K     |██████████████████████▋         | 481 kB 14.4 MB/s eta 0:00:01\r\u001b[K     |███████████████████████▏        | 491 kB 14.4 MB/s eta 0:00:01\r\u001b[K     |███████████████████████▋        | 501 kB 14.4 MB/s eta 0:00:01\r\u001b[K     |████████████████████████        | 512 kB 14.4 MB/s eta 0:00:01\r\u001b[K     |████████████████████████▋       | 522 kB 14.4 MB/s eta 0:00:01\r\u001b[K     |█████████████████████████       | 532 kB 14.4 MB/s eta 0:00:01\r\u001b[K     |█████████████████████████▌      | 542 kB 14.4 MB/s eta 0:00:01\r\u001b[K     |██████████████████████████      | 552 kB 14.4 MB/s eta 0:00:01\r\u001b[K     |██████████████████████████▌     | 563 kB 14.4 MB/s eta 0:00:01\r\u001b[K     |███████████████████████████     | 573 kB 14.4 MB/s eta 0:00:01\r\u001b[K     |███████████████████████████▌    | 583 kB 14.4 MB/s eta 0:00:01\r\u001b[K     |████████████████████████████    | 593 kB 14.4 MB/s eta 0:00:01\r\u001b[K     |████████████████████████████▍   | 604 kB 14.4 MB/s eta 0:00:01\r\u001b[K     |█████████████████████████████   | 614 kB 14.4 MB/s eta 0:00:01\r\u001b[K     |█████████████████████████████▍  | 624 kB 14.4 MB/s eta 0:00:01\r\u001b[K     |█████████████████████████████▉  | 634 kB 14.4 MB/s eta 0:00:01\r\u001b[K     |██████████████████████████████▍ | 645 kB 14.4 MB/s eta 0:00:01\r\u001b[K     |██████████████████████████████▉ | 655 kB 14.4 MB/s eta 0:00:01\r\u001b[K     |███████████████████████████████▎| 665 kB 14.4 MB/s eta 0:00:01\r\u001b[K     |███████████████████████████████▉| 675 kB 14.4 MB/s eta 0:00:01\r\u001b[K     |████████████████████████████████| 679 kB 14.4 MB/s \n",
            "\u001b[?25hRequirement already satisfied: typeguard>=2.7 in /usr/local/lib/python3.7/dist-packages (from tensorflow-addons) (2.7.1)\n",
            "Installing collected packages: tensorflow-addons\n",
            "Successfully installed tensorflow-addons-0.13.0\n"
          ],
          "name": "stdout"
        }
      ]
    },
    {
      "cell_type": "code",
      "metadata": {
        "id": "c6fDlSMTQLoV"
      },
      "source": [
        "import tensorflow_addons as tfa"
      ],
      "execution_count": 5,
      "outputs": []
    },
    {
      "cell_type": "code",
      "metadata": {
        "id": "QmYLchjZPL8Y"
      },
      "source": [
        "mnist= tf.keras.datasets.mnist\n",
        "(x_train, y_train), (x_test, y_test)= mnist.load_data()\n",
        "\n",
        "x_train, x_test= x_train/255.0, x_test/255.0"
      ],
      "execution_count": 59,
      "outputs": []
    },
    {
      "cell_type": "code",
      "metadata": {
        "colab": {
          "base_uri": "https://localhost:8080/"
        },
        "id": "xkzkmHgKPvG4",
        "outputId": "4d91442c-9ad4-445a-8ea6-4858df78bb4f"
      },
      "source": [
        "print(x_train.shape)\n",
        "print(y_train.shape)\n",
        "print(x_test.shape)\n",
        "print(y_test.shape)"
      ],
      "execution_count": 34,
      "outputs": [
        {
          "output_type": "stream",
          "text": [
            "(60000, 28, 28)\n",
            "(60000,)\n",
            "(10000, 28, 28)\n",
            "(10000,)\n"
          ],
          "name": "stdout"
        }
      ]
    },
    {
      "cell_type": "code",
      "metadata": {
        "colab": {
          "base_uri": "https://localhost:8080/"
        },
        "id": "xz4qirNZStEs",
        "outputId": "55cbeab0-37ba-4907-c9cd-b45c035b1ef0"
      },
      "source": [
        "y_train"
      ],
      "execution_count": 60,
      "outputs": [
        {
          "output_type": "execute_result",
          "data": {
            "text/plain": [
              "array([5, 0, 4, ..., 5, 6, 8], dtype=uint8)"
            ]
          },
          "metadata": {
            "tags": []
          },
          "execution_count": 60
        }
      ]
    },
    {
      "cell_type": "code",
      "metadata": {
        "id": "W65Dmi2TVdDa"
      },
      "source": [
        "import numpy as np\n",
        "import os"
      ],
      "execution_count": 44,
      "outputs": []
    },
    {
      "cell_type": "code",
      "metadata": {
        "id": "7OQH6aMcTc1W"
      },
      "source": [
        "demx=[]\n",
        "demy=[]\n",
        "\n",
        "for i in range (len(y_train)):\n",
        "  if (y_train[i]==1) or (y_train[i]==2):\n",
        "    demx.append(x_train[i])\n",
        "    demy.append(y_train[i])\n",
        "    \n",
        "demx=np.asarray(demx)\n",
        "demy=np.asarray(demy)"
      ],
      "execution_count": 61,
      "outputs": []
    },
    {
      "cell_type": "code",
      "metadata": {
        "colab": {
          "base_uri": "https://localhost:8080/"
        },
        "id": "66UlA55oUD9u",
        "outputId": "48fdcad0-bece-4dcd-8f28-d01af47739c3"
      },
      "source": [
        "demx.shape"
      ],
      "execution_count": 62,
      "outputs": [
        {
          "output_type": "execute_result",
          "data": {
            "text/plain": [
              "(12700, 28, 28)"
            ]
          },
          "metadata": {
            "tags": []
          },
          "execution_count": 62
        }
      ]
    },
    {
      "cell_type": "code",
      "metadata": {
        "id": "3N2enMQYZPZ2"
      },
      "source": [
        "x_train = x_train.reshape(x_train.shape[0], 28, 28, 1)\n",
        "x_test = x_test.reshape(x_test.shape[0], 28, 28, 1)\n",
        "demx = demx.reshape(demx.shape[0], 28, 28, 1)"
      ],
      "execution_count": 63,
      "outputs": []
    },
    {
      "cell_type": "code",
      "metadata": {
        "id": "IqS6hLf-afNO"
      },
      "source": [
        "x_train = tf.image.resize(x_train, [14,14])\n",
        "x_test = tf.image.resize(x_test, [14,14])"
      ],
      "execution_count": 64,
      "outputs": []
    },
    {
      "cell_type": "code",
      "metadata": {
        "colab": {
          "base_uri": "https://localhost:8080/"
        },
        "id": "H9mcIOW8ajQ2",
        "outputId": "4ec4bb4f-9d25-470b-b776-206a36b5ea5c"
      },
      "source": [
        "x_train.shape"
      ],
      "execution_count": 65,
      "outputs": [
        {
          "output_type": "execute_result",
          "data": {
            "text/plain": [
              "TensorShape([60000, 14, 14, 1])"
            ]
          },
          "metadata": {
            "tags": []
          },
          "execution_count": 65
        }
      ]
    },
    {
      "cell_type": "code",
      "metadata": {
        "colab": {
          "base_uri": "https://localhost:8080/"
        },
        "id": "RkSRNDHMlyk8",
        "outputId": "b4eafaca-1df0-4f59-f52f-ffae3f4b98b4"
      },
      "source": [
        "demx.shape"
      ],
      "execution_count": 66,
      "outputs": [
        {
          "output_type": "execute_result",
          "data": {
            "text/plain": [
              "(12700, 28, 28, 1)"
            ]
          },
          "metadata": {
            "tags": []
          },
          "execution_count": 66
        }
      ]
    },
    {
      "cell_type": "code",
      "metadata": {
        "id": "5nN67mT-l1J_"
      },
      "source": [
        "def create_model():\n",
        "  model = tf.keras.models.Sequential([\n",
        "  tfa.layers.SpatialPyramidPooling2D([1,4,12]),\n",
        "  tf.keras.layers.Flatten(),\n",
        "  tf.keras.layers.Dense(128, activation='relu'),\n",
        "  tf.keras.layers.Dropout(0.2),\n",
        "  tf.keras.layers.Dense(10)\n",
        "  ])\n",
        "\n",
        "  model.compile(\n",
        "    optimizer=tf.keras.optimizers.Adam(beta_1=0.9, beta_2=0.999),\n",
        "    loss=tf.keras.losses.SparseCategoricalCrossentropy(from_logits=True),\n",
        "    metrics=[tf.keras.metrics.SparseCategoricalAccuracy()],\n",
        "  ) \n",
        "\n",
        "  return model"
      ],
      "execution_count": 69,
      "outputs": []
    },
    {
      "cell_type": "code",
      "metadata": {
        "colab": {
          "base_uri": "https://localhost:8080/"
        },
        "id": "dddJzB07P5sr",
        "outputId": "b3b85de7-9641-45a4-e15d-cb31fbbf009f"
      },
      "source": [
        "model=create_model()\n",
        "checkpoint_path = \"training_1/cp.ckpt\"\n",
        "checkpoint_dir = os.path.dirname(checkpoint_path)\n",
        "\n",
        "cp_callback = tf.keras.callbacks.ModelCheckpoint(filepath=checkpoint_path,\n",
        "                                                 save_weights_only=True,\n",
        "                                                 verbose=1)\n",
        "model.fit(\n",
        "    x_train,y_train, epochs=10, validation_data=(x_test,y_test),callbacks=[cp_callback])\n",
        "model.summary()\n",
        "\n",
        "!mkdir -p saved_model\n",
        "model.save('saved_model/my_model')\n",
        "\n",
        "\n",
        "#model.evaluate(x_test, y_test, verbose=2)"
      ],
      "execution_count": 70,
      "outputs": [
        {
          "output_type": "stream",
          "text": [
            "Epoch 1/10\n",
            "WARNING:tensorflow:Unresolved object in checkpoint: (root).optimizer.iter\n"
          ],
          "name": "stdout"
        },
        {
          "output_type": "stream",
          "text": [
            "WARNING:tensorflow:Unresolved object in checkpoint: (root).optimizer.iter\n"
          ],
          "name": "stderr"
        },
        {
          "output_type": "stream",
          "text": [
            "WARNING:tensorflow:Unresolved object in checkpoint: (root).optimizer.beta_1\n"
          ],
          "name": "stdout"
        },
        {
          "output_type": "stream",
          "text": [
            "WARNING:tensorflow:Unresolved object in checkpoint: (root).optimizer.beta_1\n"
          ],
          "name": "stderr"
        },
        {
          "output_type": "stream",
          "text": [
            "WARNING:tensorflow:Unresolved object in checkpoint: (root).optimizer.beta_2\n"
          ],
          "name": "stdout"
        },
        {
          "output_type": "stream",
          "text": [
            "WARNING:tensorflow:Unresolved object in checkpoint: (root).optimizer.beta_2\n"
          ],
          "name": "stderr"
        },
        {
          "output_type": "stream",
          "text": [
            "WARNING:tensorflow:Unresolved object in checkpoint: (root).optimizer.decay\n"
          ],
          "name": "stdout"
        },
        {
          "output_type": "stream",
          "text": [
            "WARNING:tensorflow:Unresolved object in checkpoint: (root).optimizer.decay\n"
          ],
          "name": "stderr"
        },
        {
          "output_type": "stream",
          "text": [
            "WARNING:tensorflow:Unresolved object in checkpoint: (root).optimizer.learning_rate\n"
          ],
          "name": "stdout"
        },
        {
          "output_type": "stream",
          "text": [
            "WARNING:tensorflow:Unresolved object in checkpoint: (root).optimizer.learning_rate\n"
          ],
          "name": "stderr"
        },
        {
          "output_type": "stream",
          "text": [
            "WARNING:tensorflow:A checkpoint was restored (e.g. tf.train.Checkpoint.restore or tf.keras.Model.load_weights) but not all checkpointed values were used. See above for specific issues. Use expect_partial() on the load status object, e.g. tf.train.Checkpoint.restore(...).expect_partial(), to silence these warnings, or use assert_consumed() to make the check explicit. See https://www.tensorflow.org/guide/checkpoint#loading_mechanics for details.\n"
          ],
          "name": "stdout"
        },
        {
          "output_type": "stream",
          "text": [
            "WARNING:tensorflow:A checkpoint was restored (e.g. tf.train.Checkpoint.restore or tf.keras.Model.load_weights) but not all checkpointed values were used. See above for specific issues. Use expect_partial() on the load status object, e.g. tf.train.Checkpoint.restore(...).expect_partial(), to silence these warnings, or use assert_consumed() to make the check explicit. See https://www.tensorflow.org/guide/checkpoint#loading_mechanics for details.\n"
          ],
          "name": "stderr"
        },
        {
          "output_type": "stream",
          "text": [
            "1875/1875 [==============================] - 5s 2ms/step - loss: 0.4165 - sparse_categorical_accuracy: 0.8838 - val_loss: 0.2008 - val_sparse_categorical_accuracy: 0.9433\n",
            "\n",
            "Epoch 00001: saving model to training_1/cp.ckpt\n",
            "Epoch 2/10\n",
            "1875/1875 [==============================] - 4s 2ms/step - loss: 0.2045 - sparse_categorical_accuracy: 0.9394 - val_loss: 0.1442 - val_sparse_categorical_accuracy: 0.9579\n",
            "\n",
            "Epoch 00002: saving model to training_1/cp.ckpt\n",
            "Epoch 3/10\n",
            "1875/1875 [==============================] - 4s 2ms/step - loss: 0.1569 - sparse_categorical_accuracy: 0.9541 - val_loss: 0.1172 - val_sparse_categorical_accuracy: 0.9667\n",
            "\n",
            "Epoch 00003: saving model to training_1/cp.ckpt\n",
            "Epoch 4/10\n",
            "1875/1875 [==============================] - 4s 2ms/step - loss: 0.1328 - sparse_categorical_accuracy: 0.9609 - val_loss: 0.1000 - val_sparse_categorical_accuracy: 0.9716\n",
            "\n",
            "Epoch 00004: saving model to training_1/cp.ckpt\n",
            "Epoch 5/10\n",
            "1875/1875 [==============================] - 4s 2ms/step - loss: 0.1164 - sparse_categorical_accuracy: 0.9650 - val_loss: 0.0918 - val_sparse_categorical_accuracy: 0.9727\n",
            "\n",
            "Epoch 00005: saving model to training_1/cp.ckpt\n",
            "Epoch 6/10\n",
            "1875/1875 [==============================] - 4s 2ms/step - loss: 0.1057 - sparse_categorical_accuracy: 0.9679 - val_loss: 0.0843 - val_sparse_categorical_accuracy: 0.9750\n",
            "\n",
            "Epoch 00006: saving model to training_1/cp.ckpt\n",
            "Epoch 7/10\n",
            "1875/1875 [==============================] - 4s 2ms/step - loss: 0.0961 - sparse_categorical_accuracy: 0.9710 - val_loss: 0.0806 - val_sparse_categorical_accuracy: 0.9774\n",
            "\n",
            "Epoch 00007: saving model to training_1/cp.ckpt\n",
            "Epoch 8/10\n",
            "1875/1875 [==============================] - 4s 2ms/step - loss: 0.0880 - sparse_categorical_accuracy: 0.9733 - val_loss: 0.0779 - val_sparse_categorical_accuracy: 0.9766\n",
            "\n",
            "Epoch 00008: saving model to training_1/cp.ckpt\n",
            "Epoch 9/10\n",
            "1875/1875 [==============================] - 4s 2ms/step - loss: 0.0829 - sparse_categorical_accuracy: 0.9745 - val_loss: 0.0788 - val_sparse_categorical_accuracy: 0.9768\n",
            "\n",
            "Epoch 00009: saving model to training_1/cp.ckpt\n",
            "Epoch 10/10\n",
            "1875/1875 [==============================] - 4s 2ms/step - loss: 0.0766 - sparse_categorical_accuracy: 0.9768 - val_loss: 0.0743 - val_sparse_categorical_accuracy: 0.9776\n",
            "\n",
            "Epoch 00010: saving model to training_1/cp.ckpt\n",
            "Model: \"sequential_14\"\n",
            "_________________________________________________________________\n",
            "Layer (type)                 Output Shape              Param #   \n",
            "=================================================================\n",
            "spatial_pyramid_pooling2d_12 (None, 161, 1)            0         \n",
            "_________________________________________________________________\n",
            "flatten_14 (Flatten)         (None, 161)               0         \n",
            "_________________________________________________________________\n",
            "dense_28 (Dense)             (None, 128)               20736     \n",
            "_________________________________________________________________\n",
            "dropout_14 (Dropout)         (None, 128)               0         \n",
            "_________________________________________________________________\n",
            "dense_29 (Dense)             (None, 10)                1290      \n",
            "=================================================================\n",
            "Total params: 22,026\n",
            "Trainable params: 22,026\n",
            "Non-trainable params: 0\n",
            "_________________________________________________________________\n"
          ],
          "name": "stdout"
        },
        {
          "output_type": "stream",
          "text": [
            "WARNING:absl:Found untraced functions such as adaptive_average_pooling2d_39_layer_call_fn, adaptive_average_pooling2d_39_layer_call_and_return_conditional_losses, adaptive_average_pooling2d_40_layer_call_fn, adaptive_average_pooling2d_40_layer_call_and_return_conditional_losses, adaptive_average_pooling2d_41_layer_call_fn while saving (showing 5 of 15). These functions will not be directly callable after loading.\n"
          ],
          "name": "stderr"
        },
        {
          "output_type": "stream",
          "text": [
            "INFO:tensorflow:Assets written to: saved_model/my_model/assets\n"
          ],
          "name": "stdout"
        },
        {
          "output_type": "stream",
          "text": [
            "INFO:tensorflow:Assets written to: saved_model/my_model/assets\n"
          ],
          "name": "stderr"
        }
      ]
    },
    {
      "cell_type": "code",
      "metadata": {
        "colab": {
          "base_uri": "https://localhost:8080/"
        },
        "id": "omlMNA96eb0K",
        "outputId": "191b532e-4c5f-49fa-e7fe-4c91a305914b"
      },
      "source": [
        "ls saved_model\n"
      ],
      "execution_count": 52,
      "outputs": [
        {
          "output_type": "stream",
          "text": [
            "\u001b[0m\u001b[01;34mmy_model\u001b[0m/\n"
          ],
          "name": "stdout"
        }
      ]
    },
    {
      "cell_type": "code",
      "metadata": {
        "colab": {
          "base_uri": "https://localhost:8080/"
        },
        "id": "SEbwW8Bqefml",
        "outputId": "f3748cab-63ab-48dd-bcf2-da0b531fdde3"
      },
      "source": [
        "ls saved_model/my_model"
      ],
      "execution_count": 54,
      "outputs": [
        {
          "output_type": "stream",
          "text": [
            "\u001b[0m\u001b[01;34massets\u001b[0m/  keras_metadata.pb  saved_model.pb  \u001b[01;34mvariables\u001b[0m/\n"
          ],
          "name": "stdout"
        }
      ]
    },
    {
      "cell_type": "code",
      "metadata": {
        "colab": {
          "base_uri": "https://localhost:8080/"
        },
        "id": "nGw58XJgc0IP",
        "outputId": "644c1ce3-9bce-42ad-ffa1-290192fe20a1"
      },
      "source": [
        "os.listdir(checkpoint_dir)"
      ],
      "execution_count": 55,
      "outputs": [
        {
          "output_type": "execute_result",
          "data": {
            "text/plain": [
              "['cp.ckpt.index', 'checkpoint', 'cp.ckpt.data-00000-of-00001']"
            ]
          },
          "metadata": {
            "tags": []
          },
          "execution_count": 55
        }
      ]
    },
    {
      "cell_type": "code",
      "metadata": {
        "colab": {
          "base_uri": "https://localhost:8080/"
        },
        "id": "c1LDJHg9dEed",
        "outputId": "ebe0b578-7e5a-4580-837d-748f417d0f16"
      },
      "source": [
        "#new model instance\n",
        "model=create_model()\n",
        "loss, acc = model.evaluate(demx, demy, verbose=2)\n",
        "print(\"Untrained model, accuracy: {:5.2f}%\".format(100 * acc))\n",
        "model.load_weights(checkpoint_path)\n",
        "# Re-evaluate the model\n",
        "loss, acc = model.evaluate(demx, demy, verbose=2)\n",
        "print(\"dem x, dem y shape: \", demx.shape, demy.shape)\n",
        "print(\"Restored model, accuracy: {:5.2f}%\".format(100 * acc))"
      ],
      "execution_count": 71,
      "outputs": [
        {
          "output_type": "stream",
          "text": [
            "397/397 - 1s - loss: 2.0768 - sparse_categorical_accuracy: 0.0954\n",
            "Untrained model, accuracy:  9.54%\n",
            "397/397 - 1s - loss: 0.0454 - sparse_categorical_accuracy: 0.9873\n",
            "dem x, dem y shape:  (12700, 28, 28, 1) (12700,)\n",
            "Restored model, accuracy: 98.73%\n"
          ],
          "name": "stdout"
        }
      ]
    },
    {
      "cell_type": "code",
      "metadata": {
        "colab": {
          "base_uri": "https://localhost:8080/"
        },
        "id": "twcJ-sSHe5HX",
        "outputId": "8919580f-09ca-4b4e-be68-466d269be0a5"
      },
      "source": [
        "new_model = tf.keras.models.load_model('saved_model/my_model')\n",
        "\n",
        "new_model.summary()"
      ],
      "execution_count": 56,
      "outputs": [
        {
          "output_type": "stream",
          "text": [
            "Model: \"sequential_12\"\n",
            "_________________________________________________________________\n",
            "Layer (type)                 Output Shape              Param #   \n",
            "=================================================================\n",
            "spatial_pyramid_pooling2d_10 (None, 161, 1)            0         \n",
            "_________________________________________________________________\n",
            "flatten_12 (Flatten)         (None, 161)               0         \n",
            "_________________________________________________________________\n",
            "dense_24 (Dense)             (None, 128)               20736     \n",
            "_________________________________________________________________\n",
            "dropout_12 (Dropout)         (None, 128)               0         \n",
            "_________________________________________________________________\n",
            "dense_25 (Dense)             (None, 10)                1290      \n",
            "=================================================================\n",
            "Total params: 22,026\n",
            "Trainable params: 22,026\n",
            "Non-trainable params: 0\n",
            "_________________________________________________________________\n"
          ],
          "name": "stdout"
        }
      ]
    }
  ]
}