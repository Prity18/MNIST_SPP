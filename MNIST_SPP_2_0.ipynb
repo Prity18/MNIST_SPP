{
  "nbformat": 4,
  "nbformat_minor": 0,
  "metadata": {
    "colab": {
      "name": "MNIST SPP_2.0",
      "provenance": []
    },
    "kernelspec": {
      "name": "python3",
      "display_name": "Python 3"
    },
    "language_info": {
      "name": "python"
    }
  },
  "cells": [
    {
      "cell_type": "code",
      "metadata": {
        "id": "BNh8AiFsPFjE"
      },
      "source": [
        "import tensorflow as tf"
      ],
      "execution_count": 1,
      "outputs": []
    },
    {
      "cell_type": "code",
      "metadata": {
        "colab": {
          "base_uri": "https://localhost:8080/"
        },
        "id": "UoCKcabsQKlA",
        "outputId": "a30f5554-0831-47b8-fb86-9c5823aa3ffc"
      },
      "source": [
        "!pip install -U tensorflow-addons"
      ],
      "execution_count": 2,
      "outputs": [
        {
          "output_type": "stream",
          "text": [
            "Collecting tensorflow-addons\n",
            "  Downloading tensorflow_addons-0.13.0-cp37-cp37m-manylinux2010_x86_64.whl (679 kB)\n",
            "\u001b[?25l\r\u001b[K     |▌                               | 10 kB 24.9 MB/s eta 0:00:01\r\u001b[K     |█                               | 20 kB 28.2 MB/s eta 0:00:01\r\u001b[K     |█▌                              | 30 kB 18.3 MB/s eta 0:00:01\r\u001b[K     |██                              | 40 kB 16.5 MB/s eta 0:00:01\r\u001b[K     |██▍                             | 51 kB 7.4 MB/s eta 0:00:01\r\u001b[K     |███                             | 61 kB 8.6 MB/s eta 0:00:01\r\u001b[K     |███▍                            | 71 kB 8.0 MB/s eta 0:00:01\r\u001b[K     |███▉                            | 81 kB 8.8 MB/s eta 0:00:01\r\u001b[K     |████▍                           | 92 kB 9.5 MB/s eta 0:00:01\r\u001b[K     |████▉                           | 102 kB 7.5 MB/s eta 0:00:01\r\u001b[K     |█████▎                          | 112 kB 7.5 MB/s eta 0:00:01\r\u001b[K     |█████▉                          | 122 kB 7.5 MB/s eta 0:00:01\r\u001b[K     |██████▎                         | 133 kB 7.5 MB/s eta 0:00:01\r\u001b[K     |██████▊                         | 143 kB 7.5 MB/s eta 0:00:01\r\u001b[K     |███████▎                        | 153 kB 7.5 MB/s eta 0:00:01\r\u001b[K     |███████▊                        | 163 kB 7.5 MB/s eta 0:00:01\r\u001b[K     |████████▏                       | 174 kB 7.5 MB/s eta 0:00:01\r\u001b[K     |████████▊                       | 184 kB 7.5 MB/s eta 0:00:01\r\u001b[K     |█████████▏                      | 194 kB 7.5 MB/s eta 0:00:01\r\u001b[K     |█████████▋                      | 204 kB 7.5 MB/s eta 0:00:01\r\u001b[K     |██████████▏                     | 215 kB 7.5 MB/s eta 0:00:01\r\u001b[K     |██████████▋                     | 225 kB 7.5 MB/s eta 0:00:01\r\u001b[K     |███████████                     | 235 kB 7.5 MB/s eta 0:00:01\r\u001b[K     |███████████▋                    | 245 kB 7.5 MB/s eta 0:00:01\r\u001b[K     |████████████                    | 256 kB 7.5 MB/s eta 0:00:01\r\u001b[K     |████████████▌                   | 266 kB 7.5 MB/s eta 0:00:01\r\u001b[K     |█████████████                   | 276 kB 7.5 MB/s eta 0:00:01\r\u001b[K     |█████████████▌                  | 286 kB 7.5 MB/s eta 0:00:01\r\u001b[K     |██████████████                  | 296 kB 7.5 MB/s eta 0:00:01\r\u001b[K     |██████████████▌                 | 307 kB 7.5 MB/s eta 0:00:01\r\u001b[K     |███████████████                 | 317 kB 7.5 MB/s eta 0:00:01\r\u001b[K     |███████████████▍                | 327 kB 7.5 MB/s eta 0:00:01\r\u001b[K     |████████████████                | 337 kB 7.5 MB/s eta 0:00:01\r\u001b[K     |████████████████▍               | 348 kB 7.5 MB/s eta 0:00:01\r\u001b[K     |████████████████▉               | 358 kB 7.5 MB/s eta 0:00:01\r\u001b[K     |█████████████████▍              | 368 kB 7.5 MB/s eta 0:00:01\r\u001b[K     |█████████████████▉              | 378 kB 7.5 MB/s eta 0:00:01\r\u001b[K     |██████████████████▎             | 389 kB 7.5 MB/s eta 0:00:01\r\u001b[K     |██████████████████▉             | 399 kB 7.5 MB/s eta 0:00:01\r\u001b[K     |███████████████████▎            | 409 kB 7.5 MB/s eta 0:00:01\r\u001b[K     |███████████████████▊            | 419 kB 7.5 MB/s eta 0:00:01\r\u001b[K     |████████████████████▎           | 430 kB 7.5 MB/s eta 0:00:01\r\u001b[K     |████████████████████▊           | 440 kB 7.5 MB/s eta 0:00:01\r\u001b[K     |█████████████████████▏          | 450 kB 7.5 MB/s eta 0:00:01\r\u001b[K     |█████████████████████▊          | 460 kB 7.5 MB/s eta 0:00:01\r\u001b[K     |██████████████████████▏         | 471 kB 7.5 MB/s eta 0:00:01\r\u001b[K     |██████████████████████▋         | 481 kB 7.5 MB/s eta 0:00:01\r\u001b[K     |███████████████████████▏        | 491 kB 7.5 MB/s eta 0:00:01\r\u001b[K     |███████████████████████▋        | 501 kB 7.5 MB/s eta 0:00:01\r\u001b[K     |████████████████████████        | 512 kB 7.5 MB/s eta 0:00:01\r\u001b[K     |████████████████████████▋       | 522 kB 7.5 MB/s eta 0:00:01\r\u001b[K     |█████████████████████████       | 532 kB 7.5 MB/s eta 0:00:01\r\u001b[K     |█████████████████████████▌      | 542 kB 7.5 MB/s eta 0:00:01\r\u001b[K     |██████████████████████████      | 552 kB 7.5 MB/s eta 0:00:01\r\u001b[K     |██████████████████████████▌     | 563 kB 7.5 MB/s eta 0:00:01\r\u001b[K     |███████████████████████████     | 573 kB 7.5 MB/s eta 0:00:01\r\u001b[K     |███████████████████████████▌    | 583 kB 7.5 MB/s eta 0:00:01\r\u001b[K     |████████████████████████████    | 593 kB 7.5 MB/s eta 0:00:01\r\u001b[K     |████████████████████████████▍   | 604 kB 7.5 MB/s eta 0:00:01\r\u001b[K     |█████████████████████████████   | 614 kB 7.5 MB/s eta 0:00:01\r\u001b[K     |█████████████████████████████▍  | 624 kB 7.5 MB/s eta 0:00:01\r\u001b[K     |█████████████████████████████▉  | 634 kB 7.5 MB/s eta 0:00:01\r\u001b[K     |██████████████████████████████▍ | 645 kB 7.5 MB/s eta 0:00:01\r\u001b[K     |██████████████████████████████▉ | 655 kB 7.5 MB/s eta 0:00:01\r\u001b[K     |███████████████████████████████▎| 665 kB 7.5 MB/s eta 0:00:01\r\u001b[K     |███████████████████████████████▉| 675 kB 7.5 MB/s eta 0:00:01\r\u001b[K     |████████████████████████████████| 679 kB 7.5 MB/s \n",
            "\u001b[?25hRequirement already satisfied: typeguard>=2.7 in /usr/local/lib/python3.7/dist-packages (from tensorflow-addons) (2.7.1)\n",
            "Installing collected packages: tensorflow-addons\n",
            "Successfully installed tensorflow-addons-0.13.0\n"
          ],
          "name": "stdout"
        }
      ]
    },
    {
      "cell_type": "code",
      "metadata": {
        "id": "c6fDlSMTQLoV"
      },
      "source": [
        "import tensorflow_addons as tfa"
      ],
      "execution_count": 3,
      "outputs": []
    },
    {
      "cell_type": "code",
      "metadata": {
        "id": "QmYLchjZPL8Y"
      },
      "source": [
        "mnist= tf.keras.datasets.mnist\n",
        "(x_train, y_train), (x_test, y_test)= mnist.load_data()\n",
        "\n",
        "x_train, x_test= x_train/255.0, x_test/255.0"
      ],
      "execution_count": 53,
      "outputs": []
    },
    {
      "cell_type": "code",
      "metadata": {
        "colab": {
          "base_uri": "https://localhost:8080/"
        },
        "id": "xkzkmHgKPvG4",
        "outputId": "03deb05a-8e96-4b32-c893-8ff52c9b052a"
      },
      "source": [
        "print(x_train.shape)\n",
        "print(y_train.shape)\n",
        "print(x_test.shape)\n",
        "print(y_test.shape)"
      ],
      "execution_count": 64,
      "outputs": [
        {
          "output_type": "stream",
          "text": [
            "(60000, 28, 28)\n",
            "(60000,)\n",
            "(10000, 28, 28)\n",
            "(10000,)\n"
          ],
          "name": "stdout"
        }
      ]
    },
    {
      "cell_type": "code",
      "metadata": {
        "id": "W65Dmi2TVdDa"
      },
      "source": [
        "import numpy as np\n",
        "import os"
      ],
      "execution_count": 40,
      "outputs": []
    },
    {
      "cell_type": "code",
      "metadata": {
        "id": "CFLRtNU9MPLr"
      },
      "source": [
        "batch1x= x_train[:30000]\n",
        "batch2x= x_train[30000:]\n",
        "\n",
        "batch1y= y_train[:30000]\n",
        "batch2y=y_train[30000:]\n",
        "\n",
        "test1x= x_test[:5000]\n",
        "test1y= y_test[:5000]\n",
        "test2x= x_test[5000:]\n",
        "test2y= y_test[5000:]"
      ],
      "execution_count": 65,
      "outputs": []
    },
    {
      "cell_type": "code",
      "metadata": {
        "colab": {
          "base_uri": "https://localhost:8080/"
        },
        "id": "b8ClOB9HNuO6",
        "outputId": "49dd445a-59a6-4afb-f749-c052eabc2396"
      },
      "source": [
        "print(batch1x.shape)\n",
        "print(batch2x.shape)\n",
        "print(test1x.shape)\n",
        "print(test2x.shape)"
      ],
      "execution_count": 66,
      "outputs": [
        {
          "output_type": "stream",
          "text": [
            "(30000, 28, 28)\n",
            "(30000, 28, 28)\n",
            "(5000, 28, 28)\n",
            "(5000, 28, 28)\n"
          ],
          "name": "stdout"
        }
      ]
    },
    {
      "cell_type": "code",
      "metadata": {
        "colab": {
          "base_uri": "https://localhost:8080/"
        },
        "id": "66UlA55oUD9u",
        "outputId": "38b42885-7d27-4a08-e11a-d23605e8b006"
      },
      "source": [
        "batch2y"
      ],
      "execution_count": 15,
      "outputs": [
        {
          "output_type": "execute_result",
          "data": {
            "text/plain": [
              "array([5, 9, 5, ..., 5, 6, 8], dtype=uint8)"
            ]
          },
          "metadata": {
            "tags": []
          },
          "execution_count": 15
        }
      ]
    },
    {
      "cell_type": "code",
      "metadata": {
        "id": "3N2enMQYZPZ2"
      },
      "source": [
        "batch1x = batch1x.reshape(batch1x.shape[0], 28, 28, 1)\n",
        "test1x = test1x.reshape(test1x.shape[0], 28, 28, 1)\n",
        "batch2x = batch2x.reshape(batch2x.shape[0], 28, 28, 1)\n",
        "test2x = test2x.reshape(test2x.shape[0], 28, 28, 1)"
      ],
      "execution_count": 67,
      "outputs": []
    },
    {
      "cell_type": "code",
      "metadata": {
        "id": "IqS6hLf-afNO"
      },
      "source": [
        "batch1x = tf.image.resize(batch1x, [14,14])\n",
        "test1x= tf.image.resize(test1x, [56,56])\n",
        "test2x= tf.image.resize(test2x, [112, 122])"
      ],
      "execution_count": 68,
      "outputs": []
    },
    {
      "cell_type": "code",
      "metadata": {
        "colab": {
          "base_uri": "https://localhost:8080/"
        },
        "id": "H9mcIOW8ajQ2",
        "outputId": "ca2aa8ab-1e23-44b4-8186-e056230acf64"
      },
      "source": [
        "print(batch1x.shape)\n",
        "print(batch2x.shape)\n",
        "print(test1x.shape)\n",
        "print(test2x.shape)"
      ],
      "execution_count": 69,
      "outputs": [
        {
          "output_type": "stream",
          "text": [
            "(30000, 14, 14, 1)\n",
            "(30000, 28, 28, 1)\n",
            "(5000, 56, 56, 1)\n",
            "(5000, 112, 122, 1)\n"
          ],
          "name": "stdout"
        }
      ]
    },
    {
      "cell_type": "code",
      "metadata": {
        "id": "5nN67mT-l1J_"
      },
      "source": [
        "def create_model():\n",
        "  model = tf.keras.models.Sequential([\n",
        "  tfa.layers.SpatialPyramidPooling2D([1,4,12]),\n",
        "  tf.keras.layers.Flatten(),\n",
        "  tf.keras.layers.Dense(128, activation='relu'),\n",
        "  tf.keras.layers.Dropout(0.2),\n",
        "  tf.keras.layers.Dense(10)\n",
        "  ])\n",
        "\n",
        "  model.compile(\n",
        "    optimizer=tf.keras.optimizers.Adam(beta_1=0.9, beta_2=0.999),\n",
        "    loss=tf.keras.losses.SparseCategoricalCrossentropy(from_logits=True),\n",
        "    metrics=[tf.keras.metrics.SparseCategoricalAccuracy()],\n",
        "  ) \n",
        "\n",
        "  return model"
      ],
      "execution_count": 70,
      "outputs": []
    },
    {
      "cell_type": "code",
      "metadata": {
        "colab": {
          "base_uri": "https://localhost:8080/"
        },
        "id": "dddJzB07P5sr",
        "outputId": "492b9dff-7a07-4d4b-d8aa-b0890cc69433"
      },
      "source": [
        "model=create_model()\n",
        "checkpoint_path = \"training_1/cp.ckpt\"\n",
        "checkpoint_dir = os.path.dirname(checkpoint_path)\n",
        "\n",
        "cp_callback = tf.keras.callbacks.ModelCheckpoint(filepath=checkpoint_path,\n",
        "                                                 save_weights_only=True,\n",
        "                                                 verbose=1)\n",
        "model.fit(\n",
        "    batch1x, batch1y, epochs=10, validation_data=(test1x,test1y),callbacks=[cp_callback])\n",
        "model.summary()\n",
        "\n",
        "!mkdir -p saved_model\n",
        "model.save('saved_model/my_model')\n",
        "\n",
        "\n",
        "#model.evaluate(x_test, y_test, verbose=2)"
      ],
      "execution_count": 71,
      "outputs": [
        {
          "output_type": "stream",
          "text": [
            "Epoch 1/10\n",
            "938/938 [==============================] - 3s 2ms/step - loss: 0.5610 - sparse_categorical_accuracy: 0.8478 - val_loss: 0.3643 - val_sparse_categorical_accuracy: 0.9006\n",
            "\n",
            "Epoch 00001: saving model to training_1/cp.ckpt\n",
            "Epoch 2/10\n",
            "938/938 [==============================] - 2s 2ms/step - loss: 0.2800 - sparse_categorical_accuracy: 0.9188 - val_loss: 0.2803 - val_sparse_categorical_accuracy: 0.9244\n",
            "\n",
            "Epoch 00002: saving model to training_1/cp.ckpt\n",
            "Epoch 3/10\n",
            "938/938 [==============================] - 2s 2ms/step - loss: 0.2186 - sparse_categorical_accuracy: 0.9373 - val_loss: 0.2256 - val_sparse_categorical_accuracy: 0.9370\n",
            "\n",
            "Epoch 00003: saving model to training_1/cp.ckpt\n",
            "Epoch 4/10\n",
            "938/938 [==============================] - 2s 2ms/step - loss: 0.1814 - sparse_categorical_accuracy: 0.9472 - val_loss: 0.1970 - val_sparse_categorical_accuracy: 0.9454\n",
            "\n",
            "Epoch 00004: saving model to training_1/cp.ckpt\n",
            "Epoch 5/10\n",
            "938/938 [==============================] - 2s 2ms/step - loss: 0.1578 - sparse_categorical_accuracy: 0.9544 - val_loss: 0.1832 - val_sparse_categorical_accuracy: 0.9454\n",
            "\n",
            "Epoch 00005: saving model to training_1/cp.ckpt\n",
            "Epoch 6/10\n",
            "938/938 [==============================] - 2s 2ms/step - loss: 0.1370 - sparse_categorical_accuracy: 0.9588 - val_loss: 0.1707 - val_sparse_categorical_accuracy: 0.9494\n",
            "\n",
            "Epoch 00006: saving model to training_1/cp.ckpt\n",
            "Epoch 7/10\n",
            "938/938 [==============================] - 2s 2ms/step - loss: 0.1245 - sparse_categorical_accuracy: 0.9644 - val_loss: 0.1553 - val_sparse_categorical_accuracy: 0.9538\n",
            "\n",
            "Epoch 00007: saving model to training_1/cp.ckpt\n",
            "Epoch 8/10\n",
            "938/938 [==============================] - 2s 2ms/step - loss: 0.1118 - sparse_categorical_accuracy: 0.9671 - val_loss: 0.1460 - val_sparse_categorical_accuracy: 0.9562\n",
            "\n",
            "Epoch 00008: saving model to training_1/cp.ckpt\n",
            "Epoch 9/10\n",
            "938/938 [==============================] - 2s 2ms/step - loss: 0.1020 - sparse_categorical_accuracy: 0.9696 - val_loss: 0.1361 - val_sparse_categorical_accuracy: 0.9576\n",
            "\n",
            "Epoch 00009: saving model to training_1/cp.ckpt\n",
            "Epoch 10/10\n",
            "938/938 [==============================] - 2s 2ms/step - loss: 0.0950 - sparse_categorical_accuracy: 0.9723 - val_loss: 0.1350 - val_sparse_categorical_accuracy: 0.9582\n",
            "\n",
            "Epoch 00010: saving model to training_1/cp.ckpt\n",
            "Model: \"sequential_9\"\n",
            "_________________________________________________________________\n",
            "Layer (type)                 Output Shape              Param #   \n",
            "=================================================================\n",
            "spatial_pyramid_pooling2d_9  (None, 161, 1)            0         \n",
            "_________________________________________________________________\n",
            "flatten_9 (Flatten)          (None, 161)               0         \n",
            "_________________________________________________________________\n",
            "dense_18 (Dense)             (None, 128)               20736     \n",
            "_________________________________________________________________\n",
            "dropout_9 (Dropout)          (None, 128)               0         \n",
            "_________________________________________________________________\n",
            "dense_19 (Dense)             (None, 10)                1290      \n",
            "=================================================================\n",
            "Total params: 22,026\n",
            "Trainable params: 22,026\n",
            "Non-trainable params: 0\n",
            "_________________________________________________________________\n"
          ],
          "name": "stdout"
        },
        {
          "output_type": "stream",
          "text": [
            "WARNING:absl:Found untraced functions such as adaptive_average_pooling2d_27_layer_call_fn, adaptive_average_pooling2d_27_layer_call_and_return_conditional_losses, adaptive_average_pooling2d_28_layer_call_fn, adaptive_average_pooling2d_28_layer_call_and_return_conditional_losses, adaptive_average_pooling2d_29_layer_call_fn while saving (showing 5 of 15). These functions will not be directly callable after loading.\n"
          ],
          "name": "stderr"
        },
        {
          "output_type": "stream",
          "text": [
            "INFO:tensorflow:Assets written to: saved_model/my_model/assets\n"
          ],
          "name": "stdout"
        },
        {
          "output_type": "stream",
          "text": [
            "INFO:tensorflow:Assets written to: saved_model/my_model/assets\n"
          ],
          "name": "stderr"
        }
      ]
    },
    {
      "cell_type": "code",
      "metadata": {
        "colab": {
          "base_uri": "https://localhost:8080/"
        },
        "id": "1WQClaiQPPTH",
        "outputId": "fb6c2768-90f5-45d0-96fe-c1850ceb8d34"
      },
      "source": [
        "model=create_model()\n",
        "model.load_weights(checkpoint_path)\n",
        "\n",
        "cp_callback = tf.keras.callbacks.ModelCheckpoint(filepath=checkpoint_path,\n",
        "                                                 save_weights_only=True,\n",
        "                                                 verbose=1)\n",
        "model.fit(\n",
        "    batch2x, batch2y, epochs=10, validation_data=(test2x, test2y), callbacks=[cp_callback])\n",
        "model.summary()\n",
        "\n",
        "!mkdir -p saved_model\n",
        "model.save('saved_model/my_model2')\n",
        "\n"
      ],
      "execution_count": 72,
      "outputs": [
        {
          "output_type": "stream",
          "text": [
            "Epoch 1/10\n",
            "938/938 [==============================] - 4s 3ms/step - loss: 0.1305 - sparse_categorical_accuracy: 0.9609 - val_loss: 1.4892 - val_sparse_categorical_accuracy: 0.5620\n",
            "\n",
            "Epoch 00001: saving model to training_1/cp.ckpt\n",
            "Epoch 2/10\n",
            "938/938 [==============================] - 3s 3ms/step - loss: 0.1125 - sparse_categorical_accuracy: 0.9663 - val_loss: 1.5882 - val_sparse_categorical_accuracy: 0.5616\n",
            "\n",
            "Epoch 00002: saving model to training_1/cp.ckpt\n",
            "Epoch 3/10\n",
            "938/938 [==============================] - 3s 3ms/step - loss: 0.0986 - sparse_categorical_accuracy: 0.9705 - val_loss: 1.4782 - val_sparse_categorical_accuracy: 0.5844\n",
            "\n",
            "Epoch 00003: saving model to training_1/cp.ckpt\n",
            "Epoch 4/10\n",
            "938/938 [==============================] - 3s 3ms/step - loss: 0.0936 - sparse_categorical_accuracy: 0.9719 - val_loss: 1.5904 - val_sparse_categorical_accuracy: 0.5570\n",
            "\n",
            "Epoch 00004: saving model to training_1/cp.ckpt\n",
            "Epoch 5/10\n",
            "938/938 [==============================] - 3s 3ms/step - loss: 0.0854 - sparse_categorical_accuracy: 0.9743 - val_loss: 1.3165 - val_sparse_categorical_accuracy: 0.6216\n",
            "\n",
            "Epoch 00005: saving model to training_1/cp.ckpt\n",
            "Epoch 6/10\n",
            "938/938 [==============================] - 3s 3ms/step - loss: 0.0801 - sparse_categorical_accuracy: 0.9749 - val_loss: 1.4662 - val_sparse_categorical_accuracy: 0.6008\n",
            "\n",
            "Epoch 00006: saving model to training_1/cp.ckpt\n",
            "Epoch 7/10\n",
            "938/938 [==============================] - 3s 3ms/step - loss: 0.0749 - sparse_categorical_accuracy: 0.9780 - val_loss: 1.3578 - val_sparse_categorical_accuracy: 0.6232\n",
            "\n",
            "Epoch 00007: saving model to training_1/cp.ckpt\n",
            "Epoch 8/10\n",
            "938/938 [==============================] - 3s 3ms/step - loss: 0.0719 - sparse_categorical_accuracy: 0.9787 - val_loss: 1.4768 - val_sparse_categorical_accuracy: 0.6060\n",
            "\n",
            "Epoch 00008: saving model to training_1/cp.ckpt\n",
            "Epoch 9/10\n",
            "938/938 [==============================] - 3s 3ms/step - loss: 0.0687 - sparse_categorical_accuracy: 0.9786 - val_loss: 1.5790 - val_sparse_categorical_accuracy: 0.5928\n",
            "\n",
            "Epoch 00009: saving model to training_1/cp.ckpt\n",
            "Epoch 10/10\n",
            "938/938 [==============================] - 3s 3ms/step - loss: 0.0617 - sparse_categorical_accuracy: 0.9811 - val_loss: 1.6121 - val_sparse_categorical_accuracy: 0.5940\n",
            "\n",
            "Epoch 00010: saving model to training_1/cp.ckpt\n",
            "Model: \"sequential_10\"\n",
            "_________________________________________________________________\n",
            "Layer (type)                 Output Shape              Param #   \n",
            "=================================================================\n",
            "spatial_pyramid_pooling2d_10 (None, 161, 1)            0         \n",
            "_________________________________________________________________\n",
            "flatten_10 (Flatten)         (None, 161)               0         \n",
            "_________________________________________________________________\n",
            "dense_20 (Dense)             (None, 128)               20736     \n",
            "_________________________________________________________________\n",
            "dropout_10 (Dropout)         (None, 128)               0         \n",
            "_________________________________________________________________\n",
            "dense_21 (Dense)             (None, 10)                1290      \n",
            "=================================================================\n",
            "Total params: 22,026\n",
            "Trainable params: 22,026\n",
            "Non-trainable params: 0\n",
            "_________________________________________________________________\n"
          ],
          "name": "stdout"
        },
        {
          "output_type": "stream",
          "text": [
            "WARNING:absl:Found untraced functions such as adaptive_average_pooling2d_30_layer_call_fn, adaptive_average_pooling2d_30_layer_call_and_return_conditional_losses, adaptive_average_pooling2d_31_layer_call_fn, adaptive_average_pooling2d_31_layer_call_and_return_conditional_losses, adaptive_average_pooling2d_32_layer_call_fn while saving (showing 5 of 15). These functions will not be directly callable after loading.\n"
          ],
          "name": "stderr"
        },
        {
          "output_type": "stream",
          "text": [
            "INFO:tensorflow:Assets written to: saved_model/my_model2/assets\n"
          ],
          "name": "stdout"
        },
        {
          "output_type": "stream",
          "text": [
            "INFO:tensorflow:Assets written to: saved_model/my_model2/assets\n"
          ],
          "name": "stderr"
        }
      ]
    }
  ]
}