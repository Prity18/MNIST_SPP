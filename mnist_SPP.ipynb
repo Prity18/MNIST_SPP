{
  "nbformat": 4,
  "nbformat_minor": 0,
  "metadata": {
    "colab": {
      "name": "mnist_SPP.ipynb",
      "provenance": []
    },
    "kernelspec": {
      "name": "python3",
      "display_name": "Python 3"
    },
    "language_info": {
      "name": "python"
    }
  },
  "cells": [
    {
      "cell_type": "code",
      "metadata": {
        "colab": {
          "base_uri": "https://localhost:8080/"
        },
        "id": "GuaWx8nyxvX4",
        "outputId": "dcf5cccf-b79e-4ba0-c177-6d1f1b560e02"
      },
      "source": [
        "!pip install -U tensorflow-addons"
      ],
      "execution_count": 30,
      "outputs": [
        {
          "output_type": "stream",
          "text": [
            "Requirement already up-to-date: tensorflow-addons in /usr/local/lib/python3.7/dist-packages (0.13.0)\n",
            "Requirement already satisfied, skipping upgrade: typeguard>=2.7 in /usr/local/lib/python3.7/dist-packages (from tensorflow-addons) (2.7.1)\n"
          ],
          "name": "stdout"
        }
      ]
    },
    {
      "cell_type": "code",
      "metadata": {
        "id": "zA3kynyVxq93"
      },
      "source": [
        "import tensorflow as tf\n",
        "import tensorflow_datasets as tfds\n",
        "import tensorflow_addons as tfa\n"
      ],
      "execution_count": 31,
      "outputs": []
    },
    {
      "cell_type": "code",
      "metadata": {
        "id": "EQQKn1SZyGSf"
      },
      "source": [
        "from tensorflow.keras import layers,models\n",
        "from tensorflow_addons.layers import SpatialPyramidPooling2D \n",
        "from tensorflow.keras.models import Model, load_model, Sequential\n",
        "from tensorflow.keras.layers import Input, BatchNormalization, Activation, Dropout, Flatten, Dense, Reshape"
      ],
      "execution_count": 32,
      "outputs": []
    },
    {
      "cell_type": "code",
      "metadata": {
        "id": "-znE5OrdxzqN"
      },
      "source": [
        "(ds_train, ds_test), ds_info = tfds.load(\n",
        "    'mnist',\n",
        "    split=['train', 'test'],\n",
        "    shuffle_files=True,\n",
        "    as_supervised=True,\n",
        "    with_info=True,\n",
        ")"
      ],
      "execution_count": 43,
      "outputs": []
    },
    {
      "cell_type": "code",
      "metadata": {
        "id": "TU07PqOSx0OL"
      },
      "source": [
        "def normalize_img(image, label):\n",
        "  \"\"\"Normalizes images: `uint8` -> `float32`.\"\"\"\n",
        "  return tf.cast(image, tf.float32) / 255., label\n",
        "\n",
        "ds_train = ds_train.map(\n",
        "    normalize_img, num_parallel_calls=tf.data.experimental.AUTOTUNE)\n",
        "ds_train = ds_train.cache()\n",
        "ds_train = ds_train.shuffle(ds_info.splits['train'].num_examples)\n",
        "ds_train = ds_train.batch(128)\n",
        "ds_train = ds_train.prefetch(tf.data.experimental.AUTOTUNE)"
      ],
      "execution_count": 44,
      "outputs": []
    },
    {
      "cell_type": "code",
      "metadata": {
        "id": "1lOczDI6x2x4"
      },
      "source": [
        "ds_test = ds_test.map(\n",
        "    normalize_img, num_parallel_calls=tf.data.experimental.AUTOTUNE)\n",
        "ds_test = ds_test.batch(128)\n",
        "ds_test = ds_test.cache()\n",
        "ds_test = ds_test.prefetch(tf.data.experimental.AUTOTUNE)"
      ],
      "execution_count": 45,
      "outputs": []
    },
    {
      "cell_type": "code",
      "metadata": {
        "colab": {
          "base_uri": "https://localhost:8080/"
        },
        "id": "CWN6oH2ByAeO",
        "outputId": "a2d50edd-4948-4465-e14f-b9447ce4b2a4"
      },
      "source": [
        "model = tf.keras.models.Sequential([\n",
        "  tfa.layers.SpatialPyramidPooling2D([1,4,12] ),\n",
        "  tf.keras.layers.Flatten(input_shape=(28, 28)),\n",
        "  tf.keras.layers.Dense(128,activation='relu'),\n",
        "  tf.keras.layers.Dense(10)\n",
        "])\n",
        "model.compile(\n",
        "    optimizer=tf.keras.optimizers.Adam(beta_1=0.9, beta_2=0.999),\n",
        "    loss=tf.keras.losses.SparseCategoricalCrossentropy(from_logits=True),\n",
        "    metrics=[tf.keras.metrics.SparseCategoricalAccuracy()],\n",
        ")\n",
        "#model.summary()\n",
        "model.fit(\n",
        "    ds_train,\n",
        "    epochs=50,\n",
        "    validation_data=ds_test,\n",
        ")\n",
        "model.summary()"
      ],
      "execution_count": 47,
      "outputs": [
        {
          "output_type": "stream",
          "text": [
            "Epoch 1/50\n",
            "469/469 [==============================] - 3s 6ms/step - loss: 0.5530 - sparse_categorical_accuracy: 0.8576 - val_loss: 0.2767 - val_sparse_categorical_accuracy: 0.9240\n",
            "Epoch 2/50\n",
            "469/469 [==============================] - 3s 7ms/step - loss: 0.2539 - sparse_categorical_accuracy: 0.9283 - val_loss: 0.2095 - val_sparse_categorical_accuracy: 0.9392\n",
            "Epoch 3/50\n",
            "469/469 [==============================] - 5s 11ms/step - loss: 0.2000 - sparse_categorical_accuracy: 0.9431 - val_loss: 0.1749 - val_sparse_categorical_accuracy: 0.9505\n",
            "Epoch 4/50\n",
            "469/469 [==============================] - 4s 8ms/step - loss: 0.1668 - sparse_categorical_accuracy: 0.9521 - val_loss: 0.1506 - val_sparse_categorical_accuracy: 0.9563\n",
            "Epoch 5/50\n",
            "469/469 [==============================] - 5s 10ms/step - loss: 0.1428 - sparse_categorical_accuracy: 0.9586 - val_loss: 0.1328 - val_sparse_categorical_accuracy: 0.9614\n",
            "Epoch 6/50\n",
            "469/469 [==============================] - 5s 11ms/step - loss: 0.1256 - sparse_categorical_accuracy: 0.9638 - val_loss: 0.1245 - val_sparse_categorical_accuracy: 0.9634\n",
            "Epoch 7/50\n",
            "469/469 [==============================] - 4s 9ms/step - loss: 0.1120 - sparse_categorical_accuracy: 0.9678 - val_loss: 0.1107 - val_sparse_categorical_accuracy: 0.9684\n",
            "Epoch 8/50\n",
            "469/469 [==============================] - 5s 10ms/step - loss: 0.1002 - sparse_categorical_accuracy: 0.9718 - val_loss: 0.1060 - val_sparse_categorical_accuracy: 0.9679\n",
            "Epoch 9/50\n",
            "469/469 [==============================] - 3s 7ms/step - loss: 0.0915 - sparse_categorical_accuracy: 0.9741 - val_loss: 0.1000 - val_sparse_categorical_accuracy: 0.9719\n",
            "Epoch 10/50\n",
            "469/469 [==============================] - 7s 16ms/step - loss: 0.0835 - sparse_categorical_accuracy: 0.9760 - val_loss: 0.0940 - val_sparse_categorical_accuracy: 0.9727\n",
            "Epoch 11/50\n",
            "469/469 [==============================] - 7s 16ms/step - loss: 0.0769 - sparse_categorical_accuracy: 0.9780 - val_loss: 0.0904 - val_sparse_categorical_accuracy: 0.9744\n",
            "Epoch 12/50\n",
            "469/469 [==============================] - 7s 16ms/step - loss: 0.0712 - sparse_categorical_accuracy: 0.9796 - val_loss: 0.0854 - val_sparse_categorical_accuracy: 0.9744\n",
            "Epoch 13/50\n",
            "469/469 [==============================] - 5s 10ms/step - loss: 0.0661 - sparse_categorical_accuracy: 0.9813 - val_loss: 0.0849 - val_sparse_categorical_accuracy: 0.9759\n",
            "Epoch 14/50\n",
            "469/469 [==============================] - 4s 9ms/step - loss: 0.0621 - sparse_categorical_accuracy: 0.9824 - val_loss: 0.0844 - val_sparse_categorical_accuracy: 0.9746\n",
            "Epoch 15/50\n",
            "469/469 [==============================] - 5s 11ms/step - loss: 0.0579 - sparse_categorical_accuracy: 0.9832 - val_loss: 0.0812 - val_sparse_categorical_accuracy: 0.9766\n",
            "Epoch 16/50\n",
            "469/469 [==============================] - 5s 10ms/step - loss: 0.0548 - sparse_categorical_accuracy: 0.9846 - val_loss: 0.0762 - val_sparse_categorical_accuracy: 0.9765\n",
            "Epoch 17/50\n",
            "469/469 [==============================] - 5s 11ms/step - loss: 0.0513 - sparse_categorical_accuracy: 0.9853 - val_loss: 0.0742 - val_sparse_categorical_accuracy: 0.9781\n",
            "Epoch 18/50\n",
            "469/469 [==============================] - 5s 11ms/step - loss: 0.0485 - sparse_categorical_accuracy: 0.9861 - val_loss: 0.0751 - val_sparse_categorical_accuracy: 0.9774\n",
            "Epoch 19/50\n",
            "469/469 [==============================] - 6s 12ms/step - loss: 0.0456 - sparse_categorical_accuracy: 0.9873 - val_loss: 0.0749 - val_sparse_categorical_accuracy: 0.9777\n",
            "Epoch 20/50\n",
            "469/469 [==============================] - 6s 12ms/step - loss: 0.0436 - sparse_categorical_accuracy: 0.9876 - val_loss: 0.0775 - val_sparse_categorical_accuracy: 0.9771\n",
            "Epoch 21/50\n",
            "469/469 [==============================] - 7s 15ms/step - loss: 0.0410 - sparse_categorical_accuracy: 0.9884 - val_loss: 0.0776 - val_sparse_categorical_accuracy: 0.9769\n",
            "Epoch 22/50\n",
            "469/469 [==============================] - 6s 12ms/step - loss: 0.0391 - sparse_categorical_accuracy: 0.9890 - val_loss: 0.0724 - val_sparse_categorical_accuracy: 0.9784\n",
            "Epoch 23/50\n",
            "469/469 [==============================] - 5s 11ms/step - loss: 0.0371 - sparse_categorical_accuracy: 0.9891 - val_loss: 0.0712 - val_sparse_categorical_accuracy: 0.9786\n",
            "Epoch 24/50\n",
            "469/469 [==============================] - 5s 10ms/step - loss: 0.0353 - sparse_categorical_accuracy: 0.9902 - val_loss: 0.0713 - val_sparse_categorical_accuracy: 0.9787\n",
            "Epoch 25/50\n",
            "469/469 [==============================] - 4s 9ms/step - loss: 0.0339 - sparse_categorical_accuracy: 0.9905 - val_loss: 0.0683 - val_sparse_categorical_accuracy: 0.9793\n",
            "Epoch 26/50\n",
            "469/469 [==============================] - 4s 7ms/step - loss: 0.0320 - sparse_categorical_accuracy: 0.9909 - val_loss: 0.0708 - val_sparse_categorical_accuracy: 0.9785\n",
            "Epoch 27/50\n",
            "469/469 [==============================] - 5s 11ms/step - loss: 0.0300 - sparse_categorical_accuracy: 0.9920 - val_loss: 0.0710 - val_sparse_categorical_accuracy: 0.9781\n",
            "Epoch 28/50\n",
            "469/469 [==============================] - 3s 6ms/step - loss: 0.0290 - sparse_categorical_accuracy: 0.9918 - val_loss: 0.0708 - val_sparse_categorical_accuracy: 0.9793\n",
            "Epoch 29/50\n",
            "469/469 [==============================] - 3s 6ms/step - loss: 0.0273 - sparse_categorical_accuracy: 0.9925 - val_loss: 0.0674 - val_sparse_categorical_accuracy: 0.9795\n",
            "Epoch 30/50\n",
            "469/469 [==============================] - 3s 6ms/step - loss: 0.0261 - sparse_categorical_accuracy: 0.9929 - val_loss: 0.0706 - val_sparse_categorical_accuracy: 0.9788\n",
            "Epoch 31/50\n",
            "469/469 [==============================] - 5s 10ms/step - loss: 0.0243 - sparse_categorical_accuracy: 0.9937 - val_loss: 0.0702 - val_sparse_categorical_accuracy: 0.9787\n",
            "Epoch 32/50\n",
            "469/469 [==============================] - 3s 7ms/step - loss: 0.0241 - sparse_categorical_accuracy: 0.9935 - val_loss: 0.0675 - val_sparse_categorical_accuracy: 0.9797\n",
            "Epoch 33/50\n",
            "469/469 [==============================] - 5s 10ms/step - loss: 0.0224 - sparse_categorical_accuracy: 0.9941 - val_loss: 0.0699 - val_sparse_categorical_accuracy: 0.9789\n",
            "Epoch 34/50\n",
            "469/469 [==============================] - 4s 8ms/step - loss: 0.0216 - sparse_categorical_accuracy: 0.9944 - val_loss: 0.0720 - val_sparse_categorical_accuracy: 0.9799\n",
            "Epoch 35/50\n",
            "469/469 [==============================] - 3s 6ms/step - loss: 0.0203 - sparse_categorical_accuracy: 0.9946 - val_loss: 0.0688 - val_sparse_categorical_accuracy: 0.9802\n",
            "Epoch 36/50\n",
            "469/469 [==============================] - 3s 6ms/step - loss: 0.0192 - sparse_categorical_accuracy: 0.9953 - val_loss: 0.0682 - val_sparse_categorical_accuracy: 0.9801\n",
            "Epoch 37/50\n",
            "469/469 [==============================] - 3s 6ms/step - loss: 0.0182 - sparse_categorical_accuracy: 0.9957 - val_loss: 0.0702 - val_sparse_categorical_accuracy: 0.9794\n",
            "Epoch 38/50\n",
            "469/469 [==============================] - 3s 6ms/step - loss: 0.0175 - sparse_categorical_accuracy: 0.9961 - val_loss: 0.0705 - val_sparse_categorical_accuracy: 0.9793\n",
            "Epoch 39/50\n",
            "469/469 [==============================] - 3s 7ms/step - loss: 0.0168 - sparse_categorical_accuracy: 0.9961 - val_loss: 0.0672 - val_sparse_categorical_accuracy: 0.9797\n",
            "Epoch 40/50\n",
            "469/469 [==============================] - 4s 8ms/step - loss: 0.0160 - sparse_categorical_accuracy: 0.9963 - val_loss: 0.0761 - val_sparse_categorical_accuracy: 0.9798\n",
            "Epoch 41/50\n",
            "469/469 [==============================] - 3s 6ms/step - loss: 0.0153 - sparse_categorical_accuracy: 0.9964 - val_loss: 0.0720 - val_sparse_categorical_accuracy: 0.9803\n",
            "Epoch 42/50\n",
            "469/469 [==============================] - 7s 14ms/step - loss: 0.0146 - sparse_categorical_accuracy: 0.9969 - val_loss: 0.0735 - val_sparse_categorical_accuracy: 0.9806\n",
            "Epoch 43/50\n",
            "469/469 [==============================] - 4s 8ms/step - loss: 0.0140 - sparse_categorical_accuracy: 0.9969 - val_loss: 0.0747 - val_sparse_categorical_accuracy: 0.9796\n",
            "Epoch 44/50\n",
            "469/469 [==============================] - 3s 6ms/step - loss: 0.0137 - sparse_categorical_accuracy: 0.9968 - val_loss: 0.0752 - val_sparse_categorical_accuracy: 0.9800\n",
            "Epoch 45/50\n",
            "469/469 [==============================] - 3s 6ms/step - loss: 0.0125 - sparse_categorical_accuracy: 0.9977 - val_loss: 0.0723 - val_sparse_categorical_accuracy: 0.9795\n",
            "Epoch 46/50\n",
            "469/469 [==============================] - 3s 6ms/step - loss: 0.0120 - sparse_categorical_accuracy: 0.9979 - val_loss: 0.0719 - val_sparse_categorical_accuracy: 0.9803\n",
            "Epoch 47/50\n",
            "469/469 [==============================] - 3s 6ms/step - loss: 0.0116 - sparse_categorical_accuracy: 0.9977 - val_loss: 0.0753 - val_sparse_categorical_accuracy: 0.9790\n",
            "Epoch 48/50\n",
            "469/469 [==============================] - 3s 6ms/step - loss: 0.0108 - sparse_categorical_accuracy: 0.9981 - val_loss: 0.0745 - val_sparse_categorical_accuracy: 0.9802\n",
            "Epoch 49/50\n",
            "469/469 [==============================] - 3s 6ms/step - loss: 0.0107 - sparse_categorical_accuracy: 0.9979 - val_loss: 0.0742 - val_sparse_categorical_accuracy: 0.9809\n",
            "Epoch 50/50\n",
            "469/469 [==============================] - 3s 5ms/step - loss: 0.0100 - sparse_categorical_accuracy: 0.9980 - val_loss: 0.0769 - val_sparse_categorical_accuracy: 0.9799\n",
            "Model: \"sequential_27\"\n",
            "_________________________________________________________________\n",
            "Layer (type)                 Output Shape              Param #   \n",
            "=================================================================\n",
            "spatial_pyramid_pooling2d_27 (None, 161, 1)            0         \n",
            "_________________________________________________________________\n",
            "flatten_31 (Flatten)         (None, 161)               0         \n",
            "_________________________________________________________________\n",
            "dense_62 (Dense)             (None, 128)               20736     \n",
            "_________________________________________________________________\n",
            "dense_63 (Dense)             (None, 10)                1290      \n",
            "=================================================================\n",
            "Total params: 22,026\n",
            "Trainable params: 22,026\n",
            "Non-trainable params: 0\n",
            "_________________________________________________________________\n"
          ],
          "name": "stdout"
        }
      ]
    },
    {
      "cell_type": "markdown",
      "metadata": {
        "id": "8pjd1UJ7x-K6"
      },
      "source": [
        "correct one."
      ]
    }
  ]
}