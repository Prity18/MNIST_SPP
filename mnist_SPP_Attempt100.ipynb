{
  "nbformat": 4,
  "nbformat_minor": 0,
  "metadata": {
    "colab": {
      "name": "mnist_SPP_Attempt100.ipynb",
      "provenance": []
    },
    "kernelspec": {
      "name": "python3",
      "display_name": "Python 3"
    },
    "language_info": {
      "name": "python"
    }
  },
  "cells": [
    {
      "cell_type": "code",
      "metadata": {
        "colab": {
          "base_uri": "https://localhost:8080/"
        },
        "id": "GuaWx8nyxvX4",
        "outputId": "b48544cc-a7a3-40e0-9c64-3d41d90e2477"
      },
      "source": [
        "!pip install -U tensorflow-addons"
      ],
      "execution_count": null,
      "outputs": [
        {
          "output_type": "stream",
          "text": [
            "Collecting tensorflow-addons\n",
            "  Downloading tensorflow_addons-0.13.0-cp37-cp37m-manylinux2010_x86_64.whl (679 kB)\n",
            "\u001b[K     |████████████████████████████████| 679 kB 5.0 MB/s \n",
            "\u001b[?25hRequirement already satisfied: typeguard>=2.7 in /usr/local/lib/python3.7/dist-packages (from tensorflow-addons) (2.7.1)\n",
            "Installing collected packages: tensorflow-addons\n",
            "Successfully installed tensorflow-addons-0.13.0\n"
          ],
          "name": "stdout"
        }
      ]
    },
    {
      "cell_type": "code",
      "metadata": {
        "id": "zA3kynyVxq93"
      },
      "source": [
        "import tensorflow as tf\n",
        "import tensorflow_datasets as tfds\n",
        "import tensorflow_addons as tfa\n"
      ],
      "execution_count": null,
      "outputs": []
    },
    {
      "cell_type": "code",
      "metadata": {
        "id": "EQQKn1SZyGSf"
      },
      "source": [
        "from tensorflow.keras import layers,models\n",
        "from tensorflow_addons.layers import SpatialPyramidPooling2D \n",
        "from tensorflow.keras.models import Model, load_model, Sequential\n",
        "from tensorflow.keras.layers import Input, BatchNormalization, Activation, Dropout, Flatten, Dense, Reshape"
      ],
      "execution_count": null,
      "outputs": []
    },
    {
      "cell_type": "code",
      "metadata": {
        "id": "-znE5OrdxzqN"
      },
      "source": [
        "(ds_train, ds_test), ds_info = tfds.load(\n",
        "    'mnist',\n",
        "    split=['train', 'test'],\n",
        "    shuffle_files=True,\n",
        "    as_supervised=True,\n",
        "    with_info=True,\n",
        ")"
      ],
      "execution_count": null,
      "outputs": []
    },
    {
      "cell_type": "code",
      "metadata": {
        "id": "TU07PqOSx0OL"
      },
      "source": [
        "def normalize_img(image, label):\n",
        "  \"\"\"Normalizes images: `uint8` -> `float32`.\"\"\"\n",
        "  return tf.cast(image, tf.float32) / 255., label\n",
        "\n",
        "ds_train = ds_train.map(\n",
        "    normalize_img, num_parallel_calls=tf.data.experimental.AUTOTUNE) \n",
        "ds_train = ds_train.cache()\n",
        "ds_train = ds_train.shuffle(ds_info.splits['train'].num_examples)\n",
        "ds_train = ds_train.batch(128)\n",
        "ds_train = ds_train.prefetch(tf.data.experimental.AUTOTUNE)"
      ],
      "execution_count": null,
      "outputs": []
    },
    {
      "cell_type": "code",
      "metadata": {
        "id": "1lOczDI6x2x4"
      },
      "source": [
        "ds_test = ds_test.map(\n",
        "    normalize_img, num_parallel_calls=tf.data.experimental.AUTOTUNE)\n",
        "ds_test = ds_test.batch(128)\n",
        "ds_test = ds_test.cache()\n",
        "ds_test = ds_test.prefetch(tf.data.experimental.AUTOTUNE)"
      ],
      "execution_count": null,
      "outputs": []
    },
    {
      "cell_type": "code",
      "metadata": {
        "colab": {
          "base_uri": "https://localhost:8080/",
          "height": 167
        },
        "id": "irktcg80lm3w",
        "outputId": "e3d062d3-5d26-4dc3-8f76-60a768428b26"
      },
      "source": [
        "ds_train.shape"
      ],
      "execution_count": null,
      "outputs": [
        {
          "output_type": "error",
          "ename": "AttributeError",
          "evalue": "ignored",
          "traceback": [
            "\u001b[0;31m---------------------------------------------------------------------------\u001b[0m",
            "\u001b[0;31mAttributeError\u001b[0m                            Traceback (most recent call last)",
            "\u001b[0;32m<ipython-input-8-cb86048069af>\u001b[0m in \u001b[0;36m<module>\u001b[0;34m()\u001b[0m\n\u001b[0;32m----> 1\u001b[0;31m \u001b[0mds_train\u001b[0m\u001b[0;34m.\u001b[0m\u001b[0mshape\u001b[0m\u001b[0;34m\u001b[0m\u001b[0;34m\u001b[0m\u001b[0m\n\u001b[0m",
            "\u001b[0;31mAttributeError\u001b[0m: 'PrefetchDataset' object has no attribute 'shape'"
          ]
        }
      ]
    },
    {
      "cell_type": "code",
      "metadata": {
        "colab": {
          "base_uri": "https://localhost:8080/"
        },
        "id": "CWN6oH2ByAeO",
        "outputId": "27f2513d-90a0-4f00-b4f0-d77dbb9772a5"
      },
      "source": [
        "model = tf.keras.models.Sequential([\n",
        "  tfa.layers.SpatialPyramidPooling2D([1,2,4] ),\n",
        "  tf.keras.layers.Flatten(),\n",
        "  tf.keras.layers.Dense(128,activation='relu'),\n",
        "  tf.keras.layers.Dense(10)\n",
        "])\n",
        "model.compile(\n",
        "    optimizer=tf.keras.optimizers.Adam(beta_1=0.9, beta_2=0.999),\n",
        "    loss=tf.keras.losses.SparseCategoricalCrossentropy(from_logits=True),\n",
        "    metrics=[tf.keras.metrics.SparseCategoricalAccuracy()],\n",
        ")\n",
        "#model.summary()\n",
        "model.fit(\n",
        "    ds_train,\n",
        "    epochs=10,\n",
        "    validation_data=ds_test,\n",
        ")\n",
        "model.summary()"
      ],
      "execution_count": null,
      "outputs": [
        {
          "output_type": "stream",
          "text": [
            "Epoch 1/10\n",
            "469/469 [==============================] - 10s 7ms/step - loss: 1.4625 - sparse_categorical_accuracy: 0.6154 - val_loss: 0.9623 - val_sparse_categorical_accuracy: 0.7204\n",
            "Epoch 2/10\n",
            "469/469 [==============================] - 2s 4ms/step - loss: 0.8850 - sparse_categorical_accuracy: 0.7243 - val_loss: 0.8189 - val_sparse_categorical_accuracy: 0.7440\n",
            "Epoch 3/10\n",
            "469/469 [==============================] - 2s 4ms/step - loss: 0.7978 - sparse_categorical_accuracy: 0.7430 - val_loss: 0.7654 - val_sparse_categorical_accuracy: 0.7557\n",
            "Epoch 4/10\n",
            "469/469 [==============================] - 2s 4ms/step - loss: 0.7467 - sparse_categorical_accuracy: 0.7564 - val_loss: 0.7203 - val_sparse_categorical_accuracy: 0.7709\n",
            "Epoch 5/10\n",
            "469/469 [==============================] - 2s 4ms/step - loss: 0.7072 - sparse_categorical_accuracy: 0.7684 - val_loss: 0.6860 - val_sparse_categorical_accuracy: 0.7832\n",
            "Epoch 6/10\n",
            "469/469 [==============================] - 2s 4ms/step - loss: 0.6727 - sparse_categorical_accuracy: 0.7781 - val_loss: 0.6556 - val_sparse_categorical_accuracy: 0.7904\n",
            "Epoch 7/10\n",
            "469/469 [==============================] - 2s 4ms/step - loss: 0.6425 - sparse_categorical_accuracy: 0.7880 - val_loss: 0.6287 - val_sparse_categorical_accuracy: 0.7980\n",
            "Epoch 8/10\n",
            "469/469 [==============================] - 2s 4ms/step - loss: 0.6175 - sparse_categorical_accuracy: 0.7969 - val_loss: 0.6043 - val_sparse_categorical_accuracy: 0.8045\n",
            "Epoch 9/10\n",
            "469/469 [==============================] - 2s 4ms/step - loss: 0.5959 - sparse_categorical_accuracy: 0.8024 - val_loss: 0.5884 - val_sparse_categorical_accuracy: 0.8083\n",
            "Epoch 10/10\n",
            "469/469 [==============================] - 2s 4ms/step - loss: 0.5782 - sparse_categorical_accuracy: 0.8084 - val_loss: 0.5686 - val_sparse_categorical_accuracy: 0.8165\n",
            "Model: \"sequential\"\n",
            "_________________________________________________________________\n",
            "Layer (type)                 Output Shape              Param #   \n",
            "=================================================================\n",
            "spatial_pyramid_pooling2d (S (None, 21, 1)             0         \n",
            "_________________________________________________________________\n",
            "flatten (Flatten)            (None, 21)                0         \n",
            "_________________________________________________________________\n",
            "dense (Dense)                (None, 128)               2816      \n",
            "_________________________________________________________________\n",
            "dense_1 (Dense)              (None, 10)                1290      \n",
            "=================================================================\n",
            "Total params: 4,106\n",
            "Trainable params: 4,106\n",
            "Non-trainable params: 0\n",
            "_________________________________________________________________\n"
          ],
          "name": "stdout"
        }
      ]
    },
    {
      "cell_type": "code",
      "metadata": {
        "colab": {
          "base_uri": "https://localhost:8080/"
        },
        "id": "phWoo5JqofVY",
        "outputId": "8b44d88e-6dc0-4801-86d2-ebfe92d8e67b"
      },
      "source": [
        "model = tf.keras.models.Sequential([\n",
        "  tfa.layers.SpatialPyramidPooling2D([1,4,16] ),\n",
        "  tf.keras.layers.Flatten(input_shape=(28, 28)),\n",
        "  tf.keras.layers.Dense(128,activation='relu'),\n",
        "  tf.keras.layers.Dense(10)\n",
        "])\n",
        "model.compile(\n",
        "    optimizer=tf.keras.optimizers.Adam(beta_1=0.9, beta_2=0.999),\n",
        "    loss=tf.keras.losses.SparseCategoricalCrossentropy(from_logits=True),\n",
        "    metrics=[tf.keras.metrics.SparseCategoricalAccuracy()],\n",
        ")\n",
        "#model.summary()\n",
        "model.fit(\n",
        "    ds_train,\n",
        "    epochs=50,\n",
        "    validation_data=ds_test,\n",
        ")\n",
        "model.summary()"
      ],
      "execution_count": null,
      "outputs": [
        {
          "output_type": "stream",
          "text": [
            "Epoch 1/50\n",
            "469/469 [==============================] - 3s 5ms/step - loss: 0.7381 - sparse_categorical_accuracy: 0.7833 - val_loss: 0.4381 - val_sparse_categorical_accuracy: 0.8734\n",
            "Epoch 2/50\n",
            "469/469 [==============================] - 2s 5ms/step - loss: 0.3847 - sparse_categorical_accuracy: 0.8895 - val_loss: 0.3161 - val_sparse_categorical_accuracy: 0.9111\n",
            "Epoch 3/50\n",
            "469/469 [==============================] - 2s 5ms/step - loss: 0.2919 - sparse_categorical_accuracy: 0.9172 - val_loss: 0.2570 - val_sparse_categorical_accuracy: 0.9262\n",
            "Epoch 4/50\n",
            "469/469 [==============================] - 2s 5ms/step - loss: 0.2458 - sparse_categorical_accuracy: 0.9303 - val_loss: 0.2301 - val_sparse_categorical_accuracy: 0.9306\n",
            "Epoch 5/50\n",
            "469/469 [==============================] - 2s 5ms/step - loss: 0.2155 - sparse_categorical_accuracy: 0.9385 - val_loss: 0.2081 - val_sparse_categorical_accuracy: 0.9376\n",
            "Epoch 6/50\n",
            "469/469 [==============================] - 2s 5ms/step - loss: 0.1951 - sparse_categorical_accuracy: 0.9442 - val_loss: 0.1900 - val_sparse_categorical_accuracy: 0.9436\n",
            "Epoch 7/50\n",
            "469/469 [==============================] - 2s 5ms/step - loss: 0.1793 - sparse_categorical_accuracy: 0.9482 - val_loss: 0.1771 - val_sparse_categorical_accuracy: 0.9473\n",
            "Epoch 8/50\n",
            "469/469 [==============================] - 2s 5ms/step - loss: 0.1672 - sparse_categorical_accuracy: 0.9520 - val_loss: 0.1751 - val_sparse_categorical_accuracy: 0.9463\n",
            "Epoch 9/50\n",
            "469/469 [==============================] - 2s 5ms/step - loss: 0.1571 - sparse_categorical_accuracy: 0.9536 - val_loss: 0.1737 - val_sparse_categorical_accuracy: 0.9506\n",
            "Epoch 10/50\n",
            "469/469 [==============================] - 2s 5ms/step - loss: 0.1484 - sparse_categorical_accuracy: 0.9566 - val_loss: 0.1595 - val_sparse_categorical_accuracy: 0.9531\n",
            "Epoch 11/50\n",
            "469/469 [==============================] - 2s 5ms/step - loss: 0.1407 - sparse_categorical_accuracy: 0.9584 - val_loss: 0.1565 - val_sparse_categorical_accuracy: 0.9529\n",
            "Epoch 12/50\n",
            "469/469 [==============================] - 2s 5ms/step - loss: 0.1333 - sparse_categorical_accuracy: 0.9612 - val_loss: 0.1520 - val_sparse_categorical_accuracy: 0.9546\n",
            "Epoch 13/50\n",
            "469/469 [==============================] - 2s 5ms/step - loss: 0.1277 - sparse_categorical_accuracy: 0.9625 - val_loss: 0.1555 - val_sparse_categorical_accuracy: 0.9532\n",
            "Epoch 14/50\n",
            "469/469 [==============================] - 2s 5ms/step - loss: 0.1217 - sparse_categorical_accuracy: 0.9642 - val_loss: 0.1535 - val_sparse_categorical_accuracy: 0.9532\n",
            "Epoch 15/50\n",
            "469/469 [==============================] - 2s 5ms/step - loss: 0.1170 - sparse_categorical_accuracy: 0.9656 - val_loss: 0.1476 - val_sparse_categorical_accuracy: 0.9559\n",
            "Epoch 16/50\n",
            "469/469 [==============================] - 2s 5ms/step - loss: 0.1123 - sparse_categorical_accuracy: 0.9669 - val_loss: 0.1463 - val_sparse_categorical_accuracy: 0.9559\n",
            "Epoch 17/50\n",
            "469/469 [==============================] - 2s 5ms/step - loss: 0.1081 - sparse_categorical_accuracy: 0.9676 - val_loss: 0.1559 - val_sparse_categorical_accuracy: 0.9533\n",
            "Epoch 18/50\n",
            "469/469 [==============================] - 2s 5ms/step - loss: 0.1042 - sparse_categorical_accuracy: 0.9689 - val_loss: 0.1405 - val_sparse_categorical_accuracy: 0.9586\n",
            "Epoch 19/50\n",
            "469/469 [==============================] - 2s 5ms/step - loss: 0.1001 - sparse_categorical_accuracy: 0.9699 - val_loss: 0.1395 - val_sparse_categorical_accuracy: 0.9580\n",
            "Epoch 20/50\n",
            "469/469 [==============================] - 2s 5ms/step - loss: 0.0975 - sparse_categorical_accuracy: 0.9706 - val_loss: 0.1437 - val_sparse_categorical_accuracy: 0.9566\n",
            "Epoch 21/50\n",
            "469/469 [==============================] - 2s 5ms/step - loss: 0.0936 - sparse_categorical_accuracy: 0.9719 - val_loss: 0.1399 - val_sparse_categorical_accuracy: 0.9604\n",
            "Epoch 22/50\n",
            "469/469 [==============================] - 2s 5ms/step - loss: 0.0912 - sparse_categorical_accuracy: 0.9721 - val_loss: 0.1365 - val_sparse_categorical_accuracy: 0.9598\n",
            "Epoch 23/50\n",
            "469/469 [==============================] - 2s 5ms/step - loss: 0.0880 - sparse_categorical_accuracy: 0.9732 - val_loss: 0.1330 - val_sparse_categorical_accuracy: 0.9590\n",
            "Epoch 24/50\n",
            "469/469 [==============================] - 2s 5ms/step - loss: 0.0850 - sparse_categorical_accuracy: 0.9740 - val_loss: 0.1392 - val_sparse_categorical_accuracy: 0.9577\n",
            "Epoch 25/50\n",
            "469/469 [==============================] - 2s 5ms/step - loss: 0.0829 - sparse_categorical_accuracy: 0.9750 - val_loss: 0.1361 - val_sparse_categorical_accuracy: 0.9609\n",
            "Epoch 26/50\n",
            "469/469 [==============================] - 2s 5ms/step - loss: 0.0808 - sparse_categorical_accuracy: 0.9754 - val_loss: 0.1354 - val_sparse_categorical_accuracy: 0.9609\n",
            "Epoch 27/50\n",
            "469/469 [==============================] - 2s 5ms/step - loss: 0.0784 - sparse_categorical_accuracy: 0.9763 - val_loss: 0.1311 - val_sparse_categorical_accuracy: 0.9616\n",
            "Epoch 28/50\n",
            "469/469 [==============================] - 2s 5ms/step - loss: 0.0757 - sparse_categorical_accuracy: 0.9776 - val_loss: 0.1338 - val_sparse_categorical_accuracy: 0.9605\n",
            "Epoch 29/50\n",
            "469/469 [==============================] - 2s 5ms/step - loss: 0.0738 - sparse_categorical_accuracy: 0.9774 - val_loss: 0.1378 - val_sparse_categorical_accuracy: 0.9599\n",
            "Epoch 30/50\n",
            "469/469 [==============================] - 2s 5ms/step - loss: 0.0714 - sparse_categorical_accuracy: 0.9786 - val_loss: 0.1355 - val_sparse_categorical_accuracy: 0.9616\n",
            "Epoch 31/50\n",
            "469/469 [==============================] - 2s 5ms/step - loss: 0.0700 - sparse_categorical_accuracy: 0.9786 - val_loss: 0.1394 - val_sparse_categorical_accuracy: 0.9586\n",
            "Epoch 32/50\n",
            "469/469 [==============================] - 2s 5ms/step - loss: 0.0676 - sparse_categorical_accuracy: 0.9798 - val_loss: 0.1353 - val_sparse_categorical_accuracy: 0.9608\n",
            "Epoch 33/50\n",
            "469/469 [==============================] - 2s 5ms/step - loss: 0.0659 - sparse_categorical_accuracy: 0.9805 - val_loss: 0.1328 - val_sparse_categorical_accuracy: 0.9611\n",
            "Epoch 34/50\n",
            "469/469 [==============================] - 2s 5ms/step - loss: 0.0640 - sparse_categorical_accuracy: 0.9807 - val_loss: 0.1377 - val_sparse_categorical_accuracy: 0.9614\n",
            "Epoch 35/50\n",
            "469/469 [==============================] - 2s 5ms/step - loss: 0.0619 - sparse_categorical_accuracy: 0.9809 - val_loss: 0.1394 - val_sparse_categorical_accuracy: 0.9613\n",
            "Epoch 36/50\n",
            "469/469 [==============================] - 2s 5ms/step - loss: 0.0610 - sparse_categorical_accuracy: 0.9815 - val_loss: 0.1347 - val_sparse_categorical_accuracy: 0.9635\n",
            "Epoch 37/50\n",
            "469/469 [==============================] - 2s 5ms/step - loss: 0.0599 - sparse_categorical_accuracy: 0.9819 - val_loss: 0.1359 - val_sparse_categorical_accuracy: 0.9616\n",
            "Epoch 38/50\n",
            "469/469 [==============================] - 2s 5ms/step - loss: 0.0582 - sparse_categorical_accuracy: 0.9822 - val_loss: 0.1419 - val_sparse_categorical_accuracy: 0.9604\n",
            "Epoch 39/50\n",
            "469/469 [==============================] - 2s 5ms/step - loss: 0.0567 - sparse_categorical_accuracy: 0.9834 - val_loss: 0.1429 - val_sparse_categorical_accuracy: 0.9590\n",
            "Epoch 40/50\n",
            "469/469 [==============================] - 2s 5ms/step - loss: 0.0547 - sparse_categorical_accuracy: 0.9837 - val_loss: 0.1381 - val_sparse_categorical_accuracy: 0.9616\n",
            "Epoch 41/50\n",
            "469/469 [==============================] - 2s 5ms/step - loss: 0.0540 - sparse_categorical_accuracy: 0.9838 - val_loss: 0.1456 - val_sparse_categorical_accuracy: 0.9600\n",
            "Epoch 42/50\n",
            "469/469 [==============================] - 2s 5ms/step - loss: 0.0533 - sparse_categorical_accuracy: 0.9837 - val_loss: 0.1390 - val_sparse_categorical_accuracy: 0.9622\n",
            "Epoch 43/50\n",
            "469/469 [==============================] - 2s 5ms/step - loss: 0.0511 - sparse_categorical_accuracy: 0.9850 - val_loss: 0.1443 - val_sparse_categorical_accuracy: 0.9607\n",
            "Epoch 44/50\n",
            "469/469 [==============================] - 2s 5ms/step - loss: 0.0499 - sparse_categorical_accuracy: 0.9853 - val_loss: 0.1386 - val_sparse_categorical_accuracy: 0.9611\n",
            "Epoch 45/50\n",
            "469/469 [==============================] - 2s 5ms/step - loss: 0.0480 - sparse_categorical_accuracy: 0.9861 - val_loss: 0.1469 - val_sparse_categorical_accuracy: 0.9605\n",
            "Epoch 46/50\n",
            "469/469 [==============================] - 2s 5ms/step - loss: 0.0480 - sparse_categorical_accuracy: 0.9860 - val_loss: 0.1392 - val_sparse_categorical_accuracy: 0.9622\n",
            "Epoch 47/50\n",
            "469/469 [==============================] - 2s 5ms/step - loss: 0.0460 - sparse_categorical_accuracy: 0.9872 - val_loss: 0.1425 - val_sparse_categorical_accuracy: 0.9634\n",
            "Epoch 48/50\n",
            "469/469 [==============================] - 2s 5ms/step - loss: 0.0452 - sparse_categorical_accuracy: 0.9867 - val_loss: 0.1410 - val_sparse_categorical_accuracy: 0.9642\n",
            "Epoch 49/50\n",
            "469/469 [==============================] - 2s 5ms/step - loss: 0.0448 - sparse_categorical_accuracy: 0.9868 - val_loss: 0.1512 - val_sparse_categorical_accuracy: 0.9614\n",
            "Epoch 50/50\n",
            "469/469 [==============================] - 2s 5ms/step - loss: 0.0429 - sparse_categorical_accuracy: 0.9877 - val_loss: 0.1509 - val_sparse_categorical_accuracy: 0.9615\n",
            "Model: \"sequential_1\"\n",
            "_________________________________________________________________\n",
            "Layer (type)                 Output Shape              Param #   \n",
            "=================================================================\n",
            "spatial_pyramid_pooling2d_1  (None, 273, 1)            0         \n",
            "_________________________________________________________________\n",
            "flatten_1 (Flatten)          (None, 273)               0         \n",
            "_________________________________________________________________\n",
            "dense_2 (Dense)              (None, 128)               35072     \n",
            "_________________________________________________________________\n",
            "dense_3 (Dense)              (None, 10)                1290      \n",
            "=================================================================\n",
            "Total params: 36,362\n",
            "Trainable params: 36,362\n",
            "Non-trainable params: 0\n",
            "_________________________________________________________________\n"
          ],
          "name": "stdout"
        }
      ]
    },
    {
      "cell_type": "markdown",
      "metadata": {
        "id": "8pjd1UJ7x-K6"
      },
      "source": [
        "correct one."
      ]
    }
  ]
}